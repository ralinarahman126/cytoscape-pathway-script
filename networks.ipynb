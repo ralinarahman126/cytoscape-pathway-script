{
 "cells": [
  {
   "cell_type": "code",
   "execution_count": 1,
   "id": "fd618af0-bbc7-4928-805f-651f9a9039b9",
   "metadata": {},
   "outputs": [
    {
     "name": "stdout",
     "output_type": "stream",
     "text": [
      "Collecting pybiomart\n",
      "  Downloading pybiomart-0.2.0-py3-none-any.whl.metadata (1.1 kB)\n",
      "Collecting future (from pybiomart)\n",
      "  Downloading future-1.0.0-py3-none-any.whl.metadata (4.0 kB)\n",
      "Requirement already satisfied: pandas in c:\\users\\hp\\anaconda3\\lib\\site-packages (from pybiomart) (2.2.2)\n",
      "Requirement already satisfied: requests in c:\\users\\hp\\anaconda3\\lib\\site-packages (from pybiomart) (2.32.2)\n",
      "Collecting requests-cache (from pybiomart)\n",
      "  Downloading requests_cache-1.2.1-py3-none-any.whl.metadata (9.9 kB)\n",
      "Requirement already satisfied: numpy>=1.26.0 in c:\\users\\hp\\anaconda3\\lib\\site-packages (from pandas->pybiomart) (1.26.4)\n",
      "Requirement already satisfied: python-dateutil>=2.8.2 in c:\\users\\hp\\anaconda3\\lib\\site-packages (from pandas->pybiomart) (2.9.0.post0)\n",
      "Requirement already satisfied: pytz>=2020.1 in c:\\users\\hp\\anaconda3\\lib\\site-packages (from pandas->pybiomart) (2024.1)\n",
      "Requirement already satisfied: tzdata>=2022.7 in c:\\users\\hp\\anaconda3\\lib\\site-packages (from pandas->pybiomart) (2023.3)\n",
      "Requirement already satisfied: charset-normalizer<4,>=2 in c:\\users\\hp\\anaconda3\\lib\\site-packages (from requests->pybiomart) (2.0.4)\n",
      "Requirement already satisfied: idna<4,>=2.5 in c:\\users\\hp\\anaconda3\\lib\\site-packages (from requests->pybiomart) (3.7)\n",
      "Requirement already satisfied: urllib3<3,>=1.21.1 in c:\\users\\hp\\anaconda3\\lib\\site-packages (from requests->pybiomart) (2.2.2)\n",
      "Requirement already satisfied: certifi>=2017.4.17 in c:\\users\\hp\\anaconda3\\lib\\site-packages (from requests->pybiomart) (2024.7.4)\n",
      "Requirement already satisfied: attrs>=21.2 in c:\\users\\hp\\anaconda3\\lib\\site-packages (from requests-cache->pybiomart) (23.1.0)\n",
      "Collecting cattrs>=22.2 (from requests-cache->pybiomart)\n",
      "  Downloading cattrs-23.2.3-py3-none-any.whl.metadata (10 kB)\n",
      "Requirement already satisfied: platformdirs>=2.5 in c:\\users\\hp\\anaconda3\\lib\\site-packages (from requests-cache->pybiomart) (3.10.0)\n",
      "Collecting url-normalize>=1.4 (from requests-cache->pybiomart)\n",
      "  Downloading url_normalize-1.4.3-py2.py3-none-any.whl.metadata (3.1 kB)\n",
      "Requirement already satisfied: six>=1.5 in c:\\users\\hp\\anaconda3\\lib\\site-packages (from python-dateutil>=2.8.2->pandas->pybiomart) (1.16.0)\n",
      "Downloading pybiomart-0.2.0-py3-none-any.whl (10 kB)\n",
      "Downloading future-1.0.0-py3-none-any.whl (491 kB)\n",
      "   ---------------------------------------- 0.0/491.3 kB ? eta -:--:--\n",
      "   -- ------------------------------------- 30.7/491.3 kB 1.3 MB/s eta 0:00:01\n",
      "   ------------ --------------------------- 153.6/491.3 kB 1.5 MB/s eta 0:00:01\n",
      "   ----------------------- ---------------- 286.7/491.3 kB 2.0 MB/s eta 0:00:01\n",
      "   -------------------------------------- - 471.0/491.3 kB 2.3 MB/s eta 0:00:01\n",
      "   ---------------------------------------- 491.3/491.3 kB 2.0 MB/s eta 0:00:00\n",
      "Downloading requests_cache-1.2.1-py3-none-any.whl (61 kB)\n",
      "   ---------------------------------------- 0.0/61.4 kB ? eta -:--:--\n",
      "   ---------------------------------------- 61.4/61.4 kB 1.6 MB/s eta 0:00:00\n",
      "Downloading cattrs-23.2.3-py3-none-any.whl (57 kB)\n",
      "   ---------------------------------------- 0.0/57.5 kB ? eta -:--:--\n",
      "   ---------------------------------------- 57.5/57.5 kB 1.5 MB/s eta 0:00:00\n",
      "Downloading url_normalize-1.4.3-py2.py3-none-any.whl (6.8 kB)\n",
      "Installing collected packages: url-normalize, future, cattrs, requests-cache, pybiomart\n",
      "Successfully installed cattrs-23.2.3 future-1.0.0 pybiomart-0.2.0 requests-cache-1.2.1 url-normalize-1.4.3\n",
      "Note: you may need to restart the kernel to use updated packages.\n"
     ]
    }
   ],
   "source": [
    "pip install pybiomart"
   ]
  },
  {
   "cell_type": "code",
   "execution_count": 3,
   "id": "8b7026da-219d-4178-bce2-a8d33c984e84",
   "metadata": {},
   "outputs": [
    {
     "name": "stdout",
     "output_type": "stream",
     "text": [
      "Requirement already satisfied: requests in c:\\users\\hp\\anaconda3\\lib\\site-packages (2.32.2)\n",
      "Requirement already satisfied: charset-normalizer<4,>=2 in c:\\users\\hp\\anaconda3\\lib\\site-packages (from requests) (2.0.4)\n",
      "Requirement already satisfied: idna<4,>=2.5 in c:\\users\\hp\\anaconda3\\lib\\site-packages (from requests) (3.7)\n",
      "Requirement already satisfied: urllib3<3,>=1.21.1 in c:\\users\\hp\\anaconda3\\lib\\site-packages (from requests) (2.2.2)\n",
      "Requirement already satisfied: certifi>=2017.4.17 in c:\\users\\hp\\anaconda3\\lib\\site-packages (from requests) (2024.7.4)\n",
      "Note: you may need to restart the kernel to use updated packages.\n"
     ]
    }
   ],
   "source": [
    "pip install requests"
   ]
  },
  {
   "cell_type": "code",
   "execution_count": 5,
   "id": "4e3d842b-5647-41e2-bb78-c9f97433fd60",
   "metadata": {},
   "outputs": [
    {
     "name": "stdout",
     "output_type": "stream",
     "text": [
      "Collecting py4cytoscape\n",
      "  Downloading py4cytoscape-1.9.0-py3-none-any.whl.metadata (4.8 kB)\n",
      "Requirement already satisfied: pandas in c:\\users\\hp\\anaconda3\\lib\\site-packages (from py4cytoscape) (2.2.2)\n",
      "Requirement already satisfied: networkx in c:\\users\\hp\\anaconda3\\lib\\site-packages (from py4cytoscape) (3.2.1)\n",
      "Requirement already satisfied: requests in c:\\users\\hp\\anaconda3\\lib\\site-packages (from py4cytoscape) (2.32.2)\n",
      "Collecting igraph (from py4cytoscape)\n",
      "  Downloading igraph-0.11.6-cp39-abi3-win_amd64.whl.metadata (3.9 kB)\n",
      "Collecting colorbrewer (from py4cytoscape)\n",
      "  Downloading colorbrewer-0.2.0-py3-none-any.whl.metadata (543 bytes)\n",
      "Requirement already satisfied: chardet in c:\\users\\hp\\anaconda3\\lib\\site-packages (from py4cytoscape) (4.0.0)\n",
      "Requirement already satisfied: decorator in c:\\users\\hp\\anaconda3\\lib\\site-packages (from py4cytoscape) (5.1.1)\n",
      "Collecting backoff (from py4cytoscape)\n",
      "  Downloading backoff-2.2.1-py3-none-any.whl.metadata (14 kB)\n",
      "Collecting colour (from py4cytoscape)\n",
      "  Downloading colour-0.1.5-py2.py3-none-any.whl.metadata (18 kB)\n",
      "Requirement already satisfied: six in c:\\users\\hp\\anaconda3\\lib\\site-packages (from colorbrewer->py4cytoscape) (1.16.0)\n",
      "Collecting texttable>=1.6.2 (from igraph->py4cytoscape)\n",
      "  Downloading texttable-1.7.0-py2.py3-none-any.whl.metadata (9.8 kB)\n",
      "Requirement already satisfied: numpy>=1.26.0 in c:\\users\\hp\\anaconda3\\lib\\site-packages (from pandas->py4cytoscape) (1.26.4)\n",
      "Requirement already satisfied: python-dateutil>=2.8.2 in c:\\users\\hp\\anaconda3\\lib\\site-packages (from pandas->py4cytoscape) (2.9.0.post0)\n",
      "Requirement already satisfied: pytz>=2020.1 in c:\\users\\hp\\anaconda3\\lib\\site-packages (from pandas->py4cytoscape) (2024.1)\n",
      "Requirement already satisfied: tzdata>=2022.7 in c:\\users\\hp\\anaconda3\\lib\\site-packages (from pandas->py4cytoscape) (2023.3)\n",
      "Requirement already satisfied: charset-normalizer<4,>=2 in c:\\users\\hp\\anaconda3\\lib\\site-packages (from requests->py4cytoscape) (2.0.4)\n",
      "Requirement already satisfied: idna<4,>=2.5 in c:\\users\\hp\\anaconda3\\lib\\site-packages (from requests->py4cytoscape) (3.7)\n",
      "Requirement already satisfied: urllib3<3,>=1.21.1 in c:\\users\\hp\\anaconda3\\lib\\site-packages (from requests->py4cytoscape) (2.2.2)\n",
      "Requirement already satisfied: certifi>=2017.4.17 in c:\\users\\hp\\anaconda3\\lib\\site-packages (from requests->py4cytoscape) (2024.7.4)\n",
      "Downloading py4cytoscape-1.9.0-py3-none-any.whl (180 kB)\n",
      "   ---------------------------------------- 0.0/180.5 kB ? eta -:--:--\n",
      "   -------- ------------------------------ 41.0/180.5 kB 653.6 kB/s eta 0:00:01\n",
      "   ------------------------------- -------- 143.4/180.5 kB 1.4 MB/s eta 0:00:01\n",
      "   ---------------------------------------- 180.5/180.5 kB 1.2 MB/s eta 0:00:00\n",
      "Downloading backoff-2.2.1-py3-none-any.whl (15 kB)\n",
      "Downloading colorbrewer-0.2.0-py3-none-any.whl (9.4 kB)\n",
      "Downloading colour-0.1.5-py2.py3-none-any.whl (23 kB)\n",
      "Downloading igraph-0.11.6-cp39-abi3-win_amd64.whl (2.0 MB)\n",
      "   ---------------------------------------- 0.0/2.0 MB ? eta -:--:--\n",
      "   -- ------------------------------------- 0.1/2.0 MB 3.6 MB/s eta 0:00:01\n",
      "   ----- ---------------------------------- 0.3/2.0 MB 3.2 MB/s eta 0:00:01\n",
      "   ------- -------------------------------- 0.4/2.0 MB 3.0 MB/s eta 0:00:01\n",
      "   ---------- ----------------------------- 0.5/2.0 MB 2.9 MB/s eta 0:00:01\n",
      "   ------------ --------------------------- 0.6/2.0 MB 2.8 MB/s eta 0:00:01\n",
      "   --------------- ------------------------ 0.8/2.0 MB 2.7 MB/s eta 0:00:01\n",
      "   ------------------ --------------------- 0.9/2.0 MB 2.6 MB/s eta 0:00:01\n",
      "   ------------------ --------------------- 0.9/2.0 MB 2.6 MB/s eta 0:00:01\n",
      "   ------------------ --------------------- 0.9/2.0 MB 2.6 MB/s eta 0:00:01\n",
      "   ------------------ --------------------- 0.9/2.0 MB 2.6 MB/s eta 0:00:01\n",
      "   -------------------- ------------------- 1.0/2.0 MB 1.7 MB/s eta 0:00:01\n",
      "   ----------------------- ---------------- 1.2/2.0 MB 1.9 MB/s eta 0:00:01\n",
      "   ------------------------------ --------- 1.5/2.0 MB 2.2 MB/s eta 0:00:01\n",
      "   ------------------------------- -------- 1.6/2.0 MB 2.2 MB/s eta 0:00:01\n",
      "   ---------------------------------------  1.9/2.0 MB 2.5 MB/s eta 0:00:01\n",
      "   ---------------------------------------  2.0/2.0 MB 2.5 MB/s eta 0:00:01\n",
      "   ---------------------------------------- 2.0/2.0 MB 2.4 MB/s eta 0:00:00\n",
      "Downloading texttable-1.7.0-py2.py3-none-any.whl (10 kB)\n",
      "Installing collected packages: texttable, colour, igraph, colorbrewer, backoff, py4cytoscape\n",
      "Successfully installed backoff-2.2.1 colorbrewer-0.2.0 colour-0.1.5 igraph-0.11.6 py4cytoscape-1.9.0 texttable-1.7.0\n",
      "Note: you may need to restart the kernel to use updated packages.\n"
     ]
    }
   ],
   "source": [
    "pip install py4cytoscape"
   ]
  },
  {
   "cell_type": "code",
   "execution_count": 7,
   "id": "ab4b5c91-0893-4367-82d8-007705b15a60",
   "metadata": {},
   "outputs": [],
   "source": [
    "import json\n",
    "import os\n",
    "import sys\n",
    "from sklearn.datasets import load_iris\n",
    "import pandas as pd\n",
    "from pybiomart import Dataset\n",
    "from pybiomart import Server\n",
    "import py4cytoscape as pc\n",
    "import requests\n",
    "import re\n",
    "import time\n",
    "import networkx as nx"
   ]
  },
  {
   "cell_type": "code",
   "execution_count": 11,
   "id": "de564d18-3ecc-468c-b79a-3c050df78a05",
   "metadata": {},
   "outputs": [
    {
     "name": "stdout",
     "output_type": "stream",
     "text": [
      "                    name            display_name\n",
      "0   ENSEMBL_MART_ENSEMBL       Ensembl Genes 112\n",
      "1     ENSEMBL_MART_MOUSE       Mouse strains 112\n",
      "2  ENSEMBL_MART_SEQUENCE                Sequence\n",
      "3  ENSEMBL_MART_ONTOLOGY                Ontology\n",
      "4   ENSEMBL_MART_GENOMIC    Genomic features 112\n",
      "5       ENSEMBL_MART_SNP   Ensembl Variation 112\n",
      "6   ENSEMBL_MART_FUNCGEN  Ensembl Regulation 112\n",
      "                       name                                       display_name\n",
      "0            mdomestica_snp  Opossum Short Variants (SNPs and indels exclud...\n",
      "1              hsapiens_snp  Human Short Variants (SNPs and indels excludin...\n",
      "2               sscrofa_snp  Pig Short Variants (SNPs and indels excluding ...\n",
      "3           scerevisiae_snp  Saccharomyces cerevisiae Short Variants (SNPs ...\n",
      "4       mmusculus_structvar                 Mouse Structural Variants (GRCm39)\n",
      "5          oaries_structvar       Sheep (texel) Structural Variants (Oar_v3.1)\n",
      "6                oaries_snp  Sheep (texel) Short Variants (SNPs and indels ...\n",
      "7         btaurus_structvar               Cow Structural Variants (ARS-UCD1.3)\n",
      "8   oarambouillet_structvar       Sheep Structural Variants (ARS-UI_Ramb_v2.0)\n",
      "9          clfamiliaris_snp  Dog Short Variants (SNPs and indels excluding ...\n",
      "10        tnigroviridis_snp  Tetraodon Short Variants (SNPs and indels excl...\n",
      "11        oarambouillet_snp  Sheep Short Variants (SNPs and indels excludin...\n",
      "12       hsapiens_structvar             Human Structural Variants (GRCh38.p14)\n",
      "13      ecaballus_structvar              Horse Structural Variants (EquCab3.0)\n",
      "14          rnorvegicus_snp  Rat Short Variants (SNPs and indels excluding ...\n",
      "15              ggallus_snp  Chicken Short Variants (SNPs and indels exclud...\n",
      "16   hsapiens_structvar_som     Human Somatic Structural Variants (GRCh38.p14)\n",
      "17   clfamiliaris_structvar             Dog Structural Variants (ROS_Cfam_1.0)\n",
      "18            ecaballus_snp  Horse Short Variants (SNPs and indels excludin...\n",
      "19            oanatinus_snp  Platypus Short Variants (SNPs and indels exclu...\n",
      "20            mmusculus_snp  Mouse Short Variants (SNPs and indels excludin...\n",
      "21              chircus_snp  Goat Short Variants (SNPs and indels excluding...\n",
      "22              btaurus_snp  Cow Short Variants (SNPs and indels excluding ...\n",
      "23         hsapiens_snp_som  Human Somatic Short Variants (SNPs and indels ...\n",
      "24        sscrofa_structvar              Pig Structural Variants (Sscrofa11.1)\n",
      "25               drerio_snp  Zebrafish Short Variants (SNPs and indels excl...\n",
      "26         drerio_structvar             Zebrafish Structural Variants (GRCz11)\n",
      "27               fcatus_snp  Cat Short Variants (SNPs and indels excluding ...\n",
      "                        name                             display_name  \\\n",
      "0                  refsnp_id                             Variant name   \n",
      "1              refsnp_source                           Variant source   \n",
      "2  refsnp_source_description               Variant source description   \n",
      "3                   chr_name                 Chromosome/scaffold name   \n",
      "4                chrom_start  Chromosome/scaffold position start (bp)   \n",
      "\n",
      "  description  \n",
      "0              \n",
      "1              \n",
      "2              \n",
      "3              \n",
      "4              \n",
      "                         name  type description\n",
      "0        link_so_mini_closure  list            \n",
      "1  link_so_regulation_closure  list            \n",
      "2       link_so_motif_closure  list            \n",
      "3                    chr_name  text            \n",
      "4                       start  text            \n"
     ]
    }
   ],
   "source": [
    "#check the available datasets in marts and their respective attributes and filters\n",
    "server = Server(host='http://www.ensembl.org')\n",
    "Marts=server.list_marts()\n",
    "print(Marts)\n",
    "#df1 = pd.DataFrame(Marts)\n",
    "#df1.to_csv('marts.csv', index=False)\n",
    "\n",
    "mart = server.marts['ENSEMBL_MART_SNP'] \n",
    "datas = mart.list_datasets()\n",
    "print(datas)\n",
    "#df2 = pd.DataFrame(datas)\n",
    "#df2.to_csv('datasets.csv', index=False)\n",
    "set = mart.datasets['hsapiens_snp']  # fetching the lists of attributes and filters from hspaiens_snp dataset\n",
    "\n",
    "attributes = set.list_attributes()\n",
    "filters = set.list_filters()\n",
    "#df3 = pd.DataFrame(attributes)\n",
    "#df3.to_csv('att.csv', index=False)\n",
    "\n",
    "#df4 = pd.DataFrame(filters)\n",
    "#df4.to_csv('filter.csv', index=False)\n",
    "\n",
    "# Output the first few attributes and filters\n",
    "print(attributes.head())\n",
    "print(filters.head())"
   ]
  },
  {
   "cell_type": "code",
   "execution_count": 13,
   "id": "2cd3cf6e-03f4-4bf4-ad9e-94f5927bb3b5",
   "metadata": {},
   "outputs": [
    {
     "name": "stdout",
     "output_type": "stream",
     "text": [
      "          Gene Name Variant name\n",
      "0   ENSG00000120885   rs11136000\n",
      "1   ENSG00000176165  rs139237860\n",
      "2   ENSG00000176165  rs141088742\n",
      "3   ENSG00000176165  rs143223844\n",
      "4   ENSG00000176165  rs147154860\n",
      "5   ENSG00000176165  rs148157138\n",
      "6   ENSG00000176165  rs150277632\n",
      "7   ENSG00000130204     rs157580\n",
      "8   ENSG00000130204    rs2075650\n",
      "9   ENSG00000169057   rs28935168\n",
      "10  ENSG00000176165  rs368707795\n",
      "11  ENSG00000176165  rs369673538\n",
      "12  ENSG00000176165  rs372915038\n",
      "13  ENSG00000176165  rs374673901\n",
      "14  ENSG00000176165  rs375378714\n",
      "15  ENSG00000064687    rs4147929\n",
      "16  ENSG00000171759    rs5030849\n",
      "17  ENSG00000171759    rs5030856\n",
      "18  ENSG00000171759    rs5030858\n",
      "19  ENSG00000169057   rs61748411\n",
      "20  ENSG00000169057   rs61751443\n",
      "21  ENSG00000169057   rs61751449\n",
      "22  ENSG00000171759   rs62508646\n",
      "23  ENSG00000142192   rs63750264\n",
      "24  ENSG00000203710    rs6656401\n",
      "25  ENSG00000203710    rs6701713\n",
      "26  ENSG00000198087    rs9349407\n"
     ]
    }
   ],
   "source": [
    "#open and read txt file containing variants list\n",
    "with open(\"C:/Users/HP/Downloads/variant_list.txt\", 'r') as file:\n",
    "    # Read the contents of the file into a variable\n",
    "    variants = file.read().splitlines() \n",
    "dataset = Dataset(name='hsapiens_snp',\n",
    "                  host='http://www.ensembl.org')\n",
    "#applying attributes and filters to query our desired dataset of variants associated with genes \n",
    "result=dataset.query(attributes=['ensembl_gene_name','refsnp_id'],\n",
    "              filters={\"snp_filter\": variants},)\n",
    "df = pd.DataFrame(result)\n",
    "#df = df.loc[:,~df.columns.duplicated()] (in case of duplicates)\n",
    "# Display the DataFrame\n",
    "print(df)\n",
    "#download the output in a csv file\n",
    "output_path = \"C:/Users/HP/Downloads/genetic_variants.csv\"\n",
    "df.to_csv(output_path, index=False)"
   ]
  },
  {
   "cell_type": "code",
   "execution_count": 15,
   "id": "486f6d79-f1cb-4446-bd6b-1b6730e178f2",
   "metadata": {},
   "outputs": [
    {
     "data": {
      "text/plain": [
       "['ARROW_STYLE_PROPERTIES',\n",
       " 'CATCHUP_FILTER_SECS',\n",
       " 'CATCHUP_NETWORK_MERGE_SECS',\n",
       " 'CATCHUP_NETWORK_SECS',\n",
       " 'CATCHUP_NETWORK_TIMEOUT_SECS',\n",
       " 'COLOR_PROPERTIES',\n",
       " 'CUSTOM_GRAPHICS_PROPERTIES',\n",
       " 'Color',\n",
       " 'CyError',\n",
       " 'DEFAULT_BASE_URL',\n",
       " 'DIMENSION_PROPERTIES',\n",
       " 'EDGE_ARROW_STYLE_PROPERTIES',\n",
       " 'EDGE_COLOR_PROPERTIES',\n",
       " 'EDGE_DIMENSION_PROPERTIES',\n",
       " 'EDGE_FONT_FACE_PROPERTIES',\n",
       " 'EDGE_LABEL_PROPERTIES',\n",
       " 'EDGE_LINE_STYLE_PROPERTIES',\n",
       " 'EDGE_OPACITY_PROPERTIES',\n",
       " 'EDGE_TOOLTIP_PROPERTIES',\n",
       " 'EDGE_VISIBLE_PROPERTIES',\n",
       " 'ExecutionEnvironment',\n",
       " 'FONT_FACE_PROPERTIES',\n",
       " 'LABEL_PROPERTIES',\n",
       " 'LINE_STYLE_PROPERTIES',\n",
       " 'LOCAL_BASE_URL',\n",
       " 'MODEL_PROPAGATION_SECS',\n",
       " 'NETWORK_COLOR_PROPERTIES',\n",
       " 'NODE_COLOR_PROPERTIES',\n",
       " 'NODE_CUSTOM_GRAPHICS_POSITION_PROPERTIES',\n",
       " 'NODE_CUSTOM_GRAPHICS_PROPERTIES',\n",
       " 'NODE_DIMENSION_PROPERTIES',\n",
       " 'NODE_FONT_FACE_PROPERTIES',\n",
       " 'NODE_LABEL_PROPERTIES',\n",
       " 'NODE_OPACITY_PROPERTIES',\n",
       " 'NODE_SHAPE_PROPERTIES',\n",
       " 'NODE_TOOLTIP_PROPERTIES',\n",
       " 'NODE_VISIBLE_PROPERTIES',\n",
       " 'OPACITY_PROPERTIES',\n",
       " 'PREDEFINED_SANDBOX_NAME',\n",
       " 'PROPERTY_NAME_MAP',\n",
       " 'SHAPE_PROPERTIES',\n",
       " 'TOOLTIP_PROPERTIES',\n",
       " 'VISIBLE_PROPERTIES',\n",
       " '__builtins__',\n",
       " '__cached__',\n",
       " '__doc__',\n",
       " '__file__',\n",
       " '__loader__',\n",
       " '__name__',\n",
       " '__package__',\n",
       " '__path__',\n",
       " '__spec__',\n",
       " '__version__',\n",
       " '_version',\n",
       " 'add_annotation_bounded_text',\n",
       " 'add_annotation_image',\n",
       " 'add_annotation_shape',\n",
       " 'add_annotation_text',\n",
       " 'add_cy_edges',\n",
       " 'add_cy_nodes',\n",
       " 'add_to_group',\n",
       " 'analyze_network',\n",
       " 'annotations',\n",
       " 'apply_filter',\n",
       " 'apps',\n",
       " 'backoff',\n",
       " 'base64',\n",
       " 'build_url',\n",
       " 'bundle_edges',\n",
       " 'check_execution_environment',\n",
       " 'check_supported_versions',\n",
       " 'clear_edge_bends',\n",
       " 'clear_edge_property_bypass',\n",
       " 'clear_network_center_bypass',\n",
       " 'clear_network_property_bypass',\n",
       " 'clear_network_zoom_bypass',\n",
       " 'clear_node_opacity_bypass',\n",
       " 'clear_node_property_bypass',\n",
       " 'clear_selection',\n",
       " 'clone_network',\n",
       " 'close_session',\n",
       " 'collapse_group',\n",
       " 'collections',\n",
       " 'colorbrewer',\n",
       " 'command_echo',\n",
       " 'command_open_dialog',\n",
       " 'command_pause',\n",
       " 'command_quit',\n",
       " 'command_run_file',\n",
       " 'command_sleep',\n",
       " 'commands',\n",
       " 'commands_api',\n",
       " 'commands_get',\n",
       " 'commands_help',\n",
       " 'commands_post',\n",
       " 'commands_run',\n",
       " 'copy_visual_style',\n",
       " 'create_column_filter',\n",
       " 'create_composite_filter',\n",
       " 'create_cytoscapejs_from_network',\n",
       " 'create_degree_filter',\n",
       " 'create_group',\n",
       " 'create_group_by_column',\n",
       " 'create_igraph_from_network',\n",
       " 'create_network_from_cytoscapejs',\n",
       " 'create_network_from_data_frames',\n",
       " 'create_network_from_igraph',\n",
       " 'create_network_from_networkx',\n",
       " 'create_networkx_from_network',\n",
       " 'create_subnetwork',\n",
       " 'create_view',\n",
       " 'create_visual_style',\n",
       " 'cyPalette',\n",
       " 'cy_log',\n",
       " 'cy_ndex',\n",
       " 'cybrowser_close',\n",
       " 'cybrowser_dialog',\n",
       " 'cybrowser_hide',\n",
       " 'cybrowser_list',\n",
       " 'cybrowser_send',\n",
       " 'cybrowser_show',\n",
       " 'cybrowser_version',\n",
       " 'cyrest_api',\n",
       " 'cyrest_delete',\n",
       " 'cyrest_get',\n",
       " 'cyrest_post',\n",
       " 'cyrest_put',\n",
       " 'cytoscape_api_versions',\n",
       " 'cytoscape_free_memory',\n",
       " 'cytoscape_memory_status',\n",
       " 'cytoscape_number_of_cores',\n",
       " 'cytoscape_ping',\n",
       " 'cytoscape_system',\n",
       " 'cytoscape_version_info',\n",
       " 'debug',\n",
       " 'decorator',\n",
       " 'decorators',\n",
       " 'delete_all_networks',\n",
       " 'delete_all_visual_styles',\n",
       " 'delete_annotation',\n",
       " 'delete_duplicate_edges',\n",
       " 'delete_group',\n",
       " 'delete_network',\n",
       " 'delete_selected_edges',\n",
       " 'delete_selected_nodes',\n",
       " 'delete_self_loops',\n",
       " 'delete_style_mapping',\n",
       " 'delete_table_column',\n",
       " 'delete_visual_style',\n",
       " 'df',\n",
       " 'diffusion_advanced',\n",
       " 'diffusion_basic',\n",
       " 'disable_app',\n",
       " 'do_initialize_sandbox',\n",
       " 'do_request_jupyter_bridge',\n",
       " 'do_set_sandbox',\n",
       " 'dock_panel',\n",
       " 'edge_name_to_edge_suid',\n",
       " 'edge_suid_to_edge_name',\n",
       " 'enable_app',\n",
       " 'exceptions',\n",
       " 'execution_environment',\n",
       " 'expand_group',\n",
       " 'export_filters',\n",
       " 'export_image',\n",
       " 'export_network',\n",
       " 'export_network_to_ndex',\n",
       " 'export_visual_styles',\n",
       " 'filters',\n",
       " 'fit_content',\n",
       " 'float_panel',\n",
       " 'functools',\n",
       " 'gen_edge_arrow_map',\n",
       " 'gen_edge_color_map',\n",
       " 'gen_edge_line_style_map',\n",
       " 'gen_edge_opacity_map',\n",
       " 'gen_edge_size_map',\n",
       " 'gen_edge_width_map',\n",
       " 'gen_node_color_map',\n",
       " 'gen_node_height_map',\n",
       " 'gen_node_opacity_map',\n",
       " 'gen_node_shape_map',\n",
       " 'gen_node_size_map',\n",
       " 'gen_node_width_map',\n",
       " 'get_abs_sandbox_path',\n",
       " 'get_all_edges',\n",
       " 'get_all_nodes',\n",
       " 'get_annotation_list',\n",
       " 'get_app_information',\n",
       " 'get_app_status',\n",
       " 'get_app_updates',\n",
       " 'get_arrow_shapes',\n",
       " 'get_available_apps',\n",
       " 'get_background_color_default',\n",
       " 'get_browser_client_channel',\n",
       " 'get_browser_client_js',\n",
       " 'get_collection_list',\n",
       " 'get_collection_name',\n",
       " 'get_collection_networks',\n",
       " 'get_collection_suid',\n",
       " 'get_current_sandbox',\n",
       " 'get_current_sandbox_name',\n",
       " 'get_current_sandbox_path',\n",
       " 'get_current_style',\n",
       " 'get_default_sandbox',\n",
       " 'get_default_sandbox_path',\n",
       " 'get_disabled_apps',\n",
       " 'get_edge_color',\n",
       " 'get_edge_count',\n",
       " 'get_edge_info',\n",
       " 'get_edge_line_style',\n",
       " 'get_edge_line_width',\n",
       " 'get_edge_property',\n",
       " 'get_edge_selection_color_default',\n",
       " 'get_edge_target_arrow_shape',\n",
       " 'get_filter_list',\n",
       " 'get_first_neighbors',\n",
       " 'get_group_info',\n",
       " 'get_installed_apps',\n",
       " 'get_jupyter_bridge_url',\n",
       " 'get_layout_name_mapping',\n",
       " 'get_layout_names',\n",
       " 'get_layout_property_names',\n",
       " 'get_layout_property_type',\n",
       " 'get_layout_property_value',\n",
       " 'get_line_styles',\n",
       " 'get_network_center',\n",
       " 'get_network_count',\n",
       " 'get_network_list',\n",
       " 'get_network_name',\n",
       " 'get_network_ndex_id',\n",
       " 'get_network_property',\n",
       " 'get_network_suid',\n",
       " 'get_network_view_suid',\n",
       " 'get_network_views',\n",
       " 'get_network_zoom',\n",
       " 'get_node_color',\n",
       " 'get_node_count',\n",
       " 'get_node_height',\n",
       " 'get_node_label_position',\n",
       " 'get_node_label_position_default',\n",
       " 'get_node_position',\n",
       " 'get_node_property',\n",
       " 'get_node_selection_color_default',\n",
       " 'get_node_shapes',\n",
       " 'get_node_size',\n",
       " 'get_node_width',\n",
       " 'get_notebook_is_running',\n",
       " 'get_sandbox_reinitialize',\n",
       " 'get_selected_edge_count',\n",
       " 'get_selected_edges',\n",
       " 'get_selected_node_count',\n",
       " 'get_selected_nodes',\n",
       " 'get_style_all_mappings',\n",
       " 'get_style_dependencies',\n",
       " 'get_style_mapping',\n",
       " 'get_table_column_names',\n",
       " 'get_table_column_types',\n",
       " 'get_table_columns',\n",
       " 'get_table_value',\n",
       " 'get_uninstalled_apps',\n",
       " 'get_visual_property_default',\n",
       " 'get_visual_property_names',\n",
       " 'get_visual_style_JSON',\n",
       " 'get_visual_style_names',\n",
       " 'group_annotation',\n",
       " 'groups',\n",
       " 'hide_all_panels',\n",
       " 'hide_edges',\n",
       " 'hide_nodes',\n",
       " 'hide_panel',\n",
       " 'hide_selected_edges',\n",
       " 'hide_selected_nodes',\n",
       " 'ig',\n",
       " 'import_file_from_url',\n",
       " 'import_filters',\n",
       " 'import_network_from_file',\n",
       " 'import_network_from_ndex',\n",
       " 'import_network_from_tabular_file',\n",
       " 'import_visual_styles',\n",
       " 'install_app',\n",
       " 'invert_edge_selection',\n",
       " 'invert_node_selection',\n",
       " 'json',\n",
       " 'layout_copycat',\n",
       " 'layout_network',\n",
       " 'layouts',\n",
       " 'list_groups',\n",
       " 'load_table_data',\n",
       " 'load_table_data_from_file',\n",
       " 'lock_node_dimensions',\n",
       " 'log_http_request',\n",
       " 'log_http_result',\n",
       " 'map_table_column',\n",
       " 'map_visual_property',\n",
       " 'match_arrow_color_to_edge',\n",
       " 'merge_networks',\n",
       " 'narrate',\n",
       " 'network_selection',\n",
       " 'network_views',\n",
       " 'networks',\n",
       " 'node_name_to_node_suid',\n",
       " 'node_suid_to_node_name',\n",
       " 'normalize_list',\n",
       " 'normalize_mapping',\n",
       " 'normalize_prop_name',\n",
       " 'normalize_rotation',\n",
       " 'notebook',\n",
       " 'notebook_export_show_image',\n",
       " 'notebook_show_image',\n",
       " 'np',\n",
       " 'nx',\n",
       " 'open_app_store',\n",
       " 'open_session',\n",
       " 'os',\n",
       " 'palette_color_brewer_d_BrBG',\n",
       " 'palette_color_brewer_d_PRGn',\n",
       " 'palette_color_brewer_d_PiYG',\n",
       " 'palette_color_brewer_d_PuOr',\n",
       " 'palette_color_brewer_d_RdBu',\n",
       " 'palette_color_brewer_d_RdGy',\n",
       " 'palette_color_brewer_d_RdYlBu',\n",
       " 'palette_color_brewer_d_RdYlGn',\n",
       " 'palette_color_brewer_d_Spectral',\n",
       " 'palette_color_brewer_q_Accent',\n",
       " 'palette_color_brewer_q_Dark2',\n",
       " 'palette_color_brewer_q_Paired',\n",
       " 'palette_color_brewer_q_Pastel1',\n",
       " 'palette_color_brewer_q_Pastel2',\n",
       " 'palette_color_brewer_q_Set1',\n",
       " 'palette_color_brewer_q_Set2',\n",
       " 'palette_color_brewer_q_Set3',\n",
       " 'palette_color_brewer_s_Blues',\n",
       " 'palette_color_brewer_s_BuGn',\n",
       " 'palette_color_brewer_s_BuPu',\n",
       " 'palette_color_brewer_s_GnBu',\n",
       " 'palette_color_brewer_s_Greens',\n",
       " 'palette_color_brewer_s_Greys',\n",
       " 'palette_color_brewer_s_OrRd',\n",
       " 'palette_color_brewer_s_Oranges',\n",
       " 'palette_color_brewer_s_PuBu',\n",
       " 'palette_color_brewer_s_PuBuGn',\n",
       " 'palette_color_brewer_s_PuRd',\n",
       " 'palette_color_brewer_s_Purples',\n",
       " 'palette_color_brewer_s_RdPu',\n",
       " 'palette_color_brewer_s_Reds',\n",
       " 'palette_color_brewer_s_YlGn',\n",
       " 'palette_color_brewer_s_YlGnBu',\n",
       " 'palette_color_brewer_s_YlOrBr',\n",
       " 'palette_color_brewer_s_YlOrRd',\n",
       " 'palette_color_random',\n",
       " 'parse_edges',\n",
       " 'pd',\n",
       " 'prep_post_query_lists',\n",
       " 'py4cytoscape_logger',\n",
       " 'py4cytoscape_logger_settings',\n",
       " 'py4cytoscape_notebook',\n",
       " 'py4cytoscape_sandbox',\n",
       " 'py4cytoscape_tuning',\n",
       " 'py4cytoscape_utils',\n",
       " 'random',\n",
       " 're',\n",
       " 'remove_from_group',\n",
       " 'remove_node_custom_graphics',\n",
       " 'rename_network',\n",
       " 'rename_table_column',\n",
       " 'requests',\n",
       " 'reset_default_sandbox',\n",
       " 'rotate_layout',\n",
       " 'sandbox',\n",
       " 'sandbox_get_file_info',\n",
       " 'sandbox_get_from',\n",
       " 'sandbox_initializer',\n",
       " 'sandbox_remove',\n",
       " 'sandbox_remove_file',\n",
       " 'sandbox_send_to',\n",
       " 'sandbox_set',\n",
       " 'sandbox_url_to',\n",
       " 'save_session',\n",
       " 'scale_layout',\n",
       " 'scheme_c_number_continuous',\n",
       " 'scheme_d_arrow_shapes',\n",
       " 'scheme_d_line_styles',\n",
       " 'scheme_d_number_random',\n",
       " 'scheme_d_number_series',\n",
       " 'scheme_d_shapes',\n",
       " 'select_all',\n",
       " 'select_all_edges',\n",
       " 'select_all_nodes',\n",
       " 'select_edges',\n",
       " 'select_edges_adjacent_to_nodes',\n",
       " 'select_edges_adjacent_to_selected_nodes',\n",
       " 'select_edges_connecting_selected_nodes',\n",
       " 'select_first_neighbors',\n",
       " 'select_nodes',\n",
       " 'select_nodes_connected_by_selected_edges',\n",
       " 'session',\n",
       " 'set_background_color_default',\n",
       " 'set_catchup_filter_secs',\n",
       " 'set_catchup_network_secs',\n",
       " 'set_current_network',\n",
       " 'set_current_sandbox',\n",
       " 'set_current_view',\n",
       " 'set_default_sandbox',\n",
       " 'set_default_sandbox_path',\n",
       " 'set_edge_color_bypass',\n",
       " 'set_edge_color_default',\n",
       " 'set_edge_color_mapping',\n",
       " 'set_edge_font_face_bypass',\n",
       " 'set_edge_font_face_default',\n",
       " 'set_edge_font_face_mapping',\n",
       " 'set_edge_font_size_bypass',\n",
       " 'set_edge_font_size_default',\n",
       " 'set_edge_font_size_mapping',\n",
       " 'set_edge_label_bypass',\n",
       " 'set_edge_label_color_bypass',\n",
       " 'set_edge_label_color_default',\n",
       " 'set_edge_label_color_mapping',\n",
       " 'set_edge_label_default',\n",
       " 'set_edge_label_mapping',\n",
       " 'set_edge_label_opacity_bypass',\n",
       " 'set_edge_label_opacity_default',\n",
       " 'set_edge_label_opacity_mapping',\n",
       " 'set_edge_line_style_bypass',\n",
       " 'set_edge_line_style_default',\n",
       " 'set_edge_line_style_mapping',\n",
       " 'set_edge_line_width_bypass',\n",
       " 'set_edge_line_width_default',\n",
       " 'set_edge_line_width_mapping',\n",
       " 'set_edge_opacity_bypass',\n",
       " 'set_edge_opacity_default',\n",
       " 'set_edge_opacity_mapping',\n",
       " 'set_edge_property_bypass',\n",
       " 'set_edge_selection_color_default',\n",
       " 'set_edge_source_arrow_color_bypass',\n",
       " 'set_edge_source_arrow_color_default',\n",
       " 'set_edge_source_arrow_color_mapping',\n",
       " 'set_edge_source_arrow_mapping',\n",
       " 'set_edge_source_arrow_shape_bypass',\n",
       " 'set_edge_source_arrow_shape_default',\n",
       " 'set_edge_source_arrow_shape_mapping',\n",
       " 'set_edge_target_arrow_color_bypass',\n",
       " 'set_edge_target_arrow_color_default',\n",
       " 'set_edge_target_arrow_color_mapping',\n",
       " 'set_edge_target_arrow_maping',\n",
       " 'set_edge_target_arrow_shape_bypass',\n",
       " 'set_edge_target_arrow_shape_default',\n",
       " 'set_edge_target_arrow_shape_mapping',\n",
       " 'set_edge_tooltip_bypass',\n",
       " 'set_edge_tooltip_default',\n",
       " 'set_edge_tooltip_mapping',\n",
       " 'set_layout_properties',\n",
       " 'set_model_propagation_secs',\n",
       " 'set_network_center_bypass',\n",
       " 'set_network_property_bypass',\n",
       " 'set_network_zoom_bypass',\n",
       " 'set_node_border_color_bypass',\n",
       " 'set_node_border_color_default',\n",
       " 'set_node_border_color_mapping',\n",
       " 'set_node_border_opacity_bypass',\n",
       " 'set_node_border_opacity_default',\n",
       " 'set_node_border_opacity_mapping',\n",
       " 'set_node_border_width_bypass',\n",
       " 'set_node_border_width_default',\n",
       " 'set_node_border_width_mapping',\n",
       " 'set_node_color_bypass',\n",
       " 'set_node_color_default',\n",
       " 'set_node_color_mapping',\n",
       " 'set_node_combo_opacity_mapping',\n",
       " 'set_node_custom_bar_chart',\n",
       " 'set_node_custom_box_chart',\n",
       " 'set_node_custom_heat_map_chart',\n",
       " 'set_node_custom_line_chart',\n",
       " 'set_node_custom_linear_gradient',\n",
       " 'set_node_custom_pie_chart',\n",
       " 'set_node_custom_position',\n",
       " 'set_node_custom_radial_gradient',\n",
       " 'set_node_custom_ring_chart',\n",
       " 'set_node_fill_opacity_bypass',\n",
       " 'set_node_fill_opacity_default',\n",
       " 'set_node_fill_opacity_mapping',\n",
       " 'set_node_font_face_bypass',\n",
       " 'set_node_font_face_default',\n",
       " 'set_node_font_face_mapping',\n",
       " 'set_node_font_size_bypass',\n",
       " 'set_node_font_size_default',\n",
       " 'set_node_font_size_mapping',\n",
       " 'set_node_height_bypass',\n",
       " 'set_node_height_default',\n",
       " 'set_node_height_mapping',\n",
       " 'set_node_label_bypass',\n",
       " 'set_node_label_color_bypass',\n",
       " 'set_node_label_color_default',\n",
       " 'set_node_label_color_mapping',\n",
       " 'set_node_label_default',\n",
       " 'set_node_label_mapping',\n",
       " 'set_node_label_opacity_bypass',\n",
       " 'set_node_label_opacity_default',\n",
       " 'set_node_label_opacity_mapping',\n",
       " 'set_node_label_position_bypass',\n",
       " 'set_node_label_position_default',\n",
       " 'set_node_opacity_bypass',\n",
       " 'set_node_position_bypass',\n",
       " 'set_node_property_bypass',\n",
       " 'set_node_selection_color_default',\n",
       " 'set_node_shape_bypass',\n",
       " 'set_node_shape_default',\n",
       " 'set_node_shape_mapping',\n",
       " 'set_node_size_bypass',\n",
       " 'set_node_size_default',\n",
       " 'set_node_size_mapping',\n",
       " 'set_node_tooltip_bypass',\n",
       " 'set_node_tooltip_default',\n",
       " 'set_node_tooltip_mapping',\n",
       " 'set_node_width_bypass',\n",
       " 'set_node_width_default',\n",
       " 'set_node_width_mapping',\n",
       " 'set_notebook_is_running',\n",
       " 'set_sandbox_reinitialize',\n",
       " 'set_style_dependencies',\n",
       " 'set_summary_logger',\n",
       " 'set_visual_property_default',\n",
       " 'set_visual_style',\n",
       " 'show_error',\n",
       " 'style_auto_mappings',\n",
       " 'style_bypasses',\n",
       " 'style_defaults',\n",
       " 'style_dependencies',\n",
       " 'style_mappings',\n",
       " 'style_values',\n",
       " 'style_visual_props',\n",
       " 'styles',\n",
       " 'sub_versions',\n",
       " 'sync_node_custom_graphics_size',\n",
       " 'sys',\n",
       " 'table_column_exists',\n",
       " 'tables',\n",
       " 'time',\n",
       " 'timer',\n",
       " 'toggle_graphics_details',\n",
       " 'tools',\n",
       " 'ungroup_annotation',\n",
       " 'unhide_all',\n",
       " 'unhide_edges',\n",
       " 'unhide_nodes',\n",
       " 'uninstall_app',\n",
       " 'update_annotation_bounded_text',\n",
       " 'update_annotation_image',\n",
       " 'update_annotation_shape',\n",
       " 'update_annotation_text',\n",
       " 'update_app',\n",
       " 'update_group_annotation',\n",
       " 'update_network_in_ndex',\n",
       " 'update_style_defaults',\n",
       " 'update_style_mapping',\n",
       " 'urllib',\n",
       " 'user_interface',\n",
       " 'verify_bools',\n",
       " 'verify_brightness_contrast',\n",
       " 'verify_canvas',\n",
       " 'verify_dimensions',\n",
       " 'verify_edge_shapes',\n",
       " 'verify_font_style',\n",
       " 'verify_hex_color',\n",
       " 'verify_hex_colors',\n",
       " 'verify_node_shapes',\n",
       " 'verify_non_negative',\n",
       " 'verify_opacities',\n",
       " 'verify_opacity',\n",
       " 'verify_positive',\n",
       " 'verify_slot',\n",
       " 'verify_strs',\n",
       " 'verify_supported_versions',\n",
       " 'verify_unique',\n",
       " 'warnings',\n",
       " 'webbrowser']"
      ]
     },
     "execution_count": 15,
     "metadata": {},
     "output_type": "execute_result"
    }
   ],
   "source": [
    "#Generate network of SNP associated to genes using cytoscape's Python API py4cytoscape\n",
    "import py4cytoscape as pc\n",
    "dir(pc)"
   ]
  },
  {
   "cell_type": "code",
   "execution_count": 17,
   "id": "250e067b-b7ed-47a7-95a7-2716f1d50d1a",
   "metadata": {},
   "outputs": [
    {
     "name": "stdout",
     "output_type": "stream",
     "text": [
      "You are connected to Cytoscape!\n"
     ]
    },
    {
     "data": {
      "text/plain": [
       "'You are connected to Cytoscape!'"
      ]
     },
     "execution_count": 17,
     "metadata": {},
     "output_type": "execute_result"
    }
   ],
   "source": [
    "# Connect to Cytoscape\n",
    "pc.cytoscape_ping()"
   ]
  },
  {
   "cell_type": "code",
   "execution_count": 19,
   "id": "5353b65e-3005-4283-bfeb-11818d5d48db",
   "metadata": {},
   "outputs": [
    {
     "data": {
      "text/plain": [
       "{'apiVersion': 'v1',\n",
       " 'cytoscapeVersion': '3.10.2',\n",
       " 'automationAPIVersion': '1.9.0',\n",
       " 'py4cytoscapeVersion': '1.9.0'}"
      ]
     },
     "execution_count": 19,
     "metadata": {},
     "output_type": "execute_result"
    }
   ],
   "source": [
    "#checking if cytoscape is connected\n",
    "pc.cytoscape_version_info()"
   ]
  },
  {
   "cell_type": "code",
   "execution_count": 27,
   "id": "240d7e03-3780-45a5-8851-9fcacf3e51a5",
   "metadata": {},
   "outputs": [
    {
     "data": {
      "text/html": [
       "<div>\n",
       "<style scoped>\n",
       "    .dataframe tbody tr th:only-of-type {\n",
       "        vertical-align: middle;\n",
       "    }\n",
       "\n",
       "    .dataframe tbody tr th {\n",
       "        vertical-align: top;\n",
       "    }\n",
       "\n",
       "    .dataframe thead th {\n",
       "        text-align: right;\n",
       "    }\n",
       "</style>\n",
       "<table border=\"1\" class=\"dataframe\">\n",
       "  <thead>\n",
       "    <tr style=\"text-align: right;\">\n",
       "      <th></th>\n",
       "      <th>Gene Name</th>\n",
       "      <th>Variant name</th>\n",
       "    </tr>\n",
       "  </thead>\n",
       "  <tbody>\n",
       "    <tr>\n",
       "      <th>0</th>\n",
       "      <td>ENSG00000120885</td>\n",
       "      <td>rs11136000</td>\n",
       "    </tr>\n",
       "    <tr>\n",
       "      <th>1</th>\n",
       "      <td>ENSG00000176165</td>\n",
       "      <td>rs139237860</td>\n",
       "    </tr>\n",
       "    <tr>\n",
       "      <th>2</th>\n",
       "      <td>ENSG00000176165</td>\n",
       "      <td>rs141088742</td>\n",
       "    </tr>\n",
       "    <tr>\n",
       "      <th>3</th>\n",
       "      <td>ENSG00000176165</td>\n",
       "      <td>rs143223844</td>\n",
       "    </tr>\n",
       "    <tr>\n",
       "      <th>4</th>\n",
       "      <td>ENSG00000176165</td>\n",
       "      <td>rs147154860</td>\n",
       "    </tr>\n",
       "  </tbody>\n",
       "</table>\n",
       "</div>"
      ],
      "text/plain": [
       "         Gene Name Variant name\n",
       "0  ENSG00000120885   rs11136000\n",
       "1  ENSG00000176165  rs139237860\n",
       "2  ENSG00000176165  rs141088742\n",
       "3  ENSG00000176165  rs143223844\n",
       "4  ENSG00000176165  rs147154860"
      ]
     },
     "execution_count": 27,
     "metadata": {},
     "output_type": "execute_result"
    }
   ],
   "source": [
    "#importing the already generated csv file containing variants associated to genes into cytoscape\n",
    "snp_gene_data=pd.read_csv(\"C:/Users/HP/Downloads/genetic_variants.csv\")\n",
    "#checking the first five lines of our dataframe\n",
    "snp_gene_data.head()"
   ]
  },
  {
   "cell_type": "code",
   "execution_count": 31,
   "id": "4e9bcfa7-df26-4281-b1f0-7ed2a22748ee",
   "metadata": {},
   "outputs": [
    {
     "data": {
      "text/html": [
       "<div>\n",
       "<style scoped>\n",
       "    .dataframe tbody tr th:only-of-type {\n",
       "        vertical-align: middle;\n",
       "    }\n",
       "\n",
       "    .dataframe tbody tr th {\n",
       "        vertical-align: top;\n",
       "    }\n",
       "\n",
       "    .dataframe thead th {\n",
       "        text-align: right;\n",
       "    }\n",
       "</style>\n",
       "<table border=\"1\" class=\"dataframe\">\n",
       "  <thead>\n",
       "    <tr style=\"text-align: right;\">\n",
       "      <th></th>\n",
       "      <th>source</th>\n",
       "      <th>target</th>\n",
       "    </tr>\n",
       "  </thead>\n",
       "  <tbody>\n",
       "    <tr>\n",
       "      <th>0</th>\n",
       "      <td>rs11136000</td>\n",
       "      <td>ENSG00000120885</td>\n",
       "    </tr>\n",
       "    <tr>\n",
       "      <th>1</th>\n",
       "      <td>rs139237860</td>\n",
       "      <td>ENSG00000176165</td>\n",
       "    </tr>\n",
       "    <tr>\n",
       "      <th>2</th>\n",
       "      <td>rs141088742</td>\n",
       "      <td>ENSG00000176165</td>\n",
       "    </tr>\n",
       "    <tr>\n",
       "      <th>3</th>\n",
       "      <td>rs143223844</td>\n",
       "      <td>ENSG00000176165</td>\n",
       "    </tr>\n",
       "    <tr>\n",
       "      <th>4</th>\n",
       "      <td>rs147154860</td>\n",
       "      <td>ENSG00000176165</td>\n",
       "    </tr>\n",
       "  </tbody>\n",
       "</table>\n",
       "</div>"
      ],
      "text/plain": [
       "        source           target\n",
       "0   rs11136000  ENSG00000120885\n",
       "1  rs139237860  ENSG00000176165\n",
       "2  rs141088742  ENSG00000176165\n",
       "3  rs143223844  ENSG00000176165\n",
       "4  rs147154860  ENSG00000176165"
      ]
     },
     "execution_count": 31,
     "metadata": {},
     "output_type": "execute_result"
    }
   ],
   "source": [
    "#creating a dict named edge data with two keys source and target and the values of these keys are from the columns of the dataset apms\n",
    "edge_data = {'source':snp_gene_data[\"Variant name\"],\n",
    "             'target':snp_gene_data[\"Gene Name\"], }\n",
    "edges = pd.DataFrame(data=edge_data, columns=['source', 'target'])\n",
    "edges.head()"
   ]
  },
  {
   "cell_type": "code",
   "execution_count": 33,
   "id": "dc1bf766-32dd-4b07-bbad-809a3a7c7863",
   "metadata": {},
   "outputs": [
    {
     "name": "stdout",
     "output_type": "stream",
     "text": [
      "Applying default style...\n",
      "Applying preferred layout\n"
     ]
    },
    {
     "data": {
      "text/plain": [
       "398"
      ]
     },
     "execution_count": 33,
     "metadata": {},
     "output_type": "execute_result"
    }
   ],
   "source": [
    "#Creating the network of SNPs associated to genes\n",
    "pc.create_network_from_data_frames(edges=edges, title='snp-gene network', collection=\"network collection\")"
   ]
  },
  {
   "cell_type": "code",
   "execution_count": 37,
   "id": "dcfa4e09-eb9a-43bd-bfa3-77616e2c6782",
   "metadata": {},
   "outputs": [
    {
     "name": "stdout",
     "output_type": "stream",
     "text": [
      "[]\n"
     ]
    }
   ],
   "source": [
    "#Exporting the generated Network in desired file format\n",
    "# List all networks to find the correct SUID\n",
    "networks = pc.get_network_list()\n",
    "#print the list of available networks on cytoscape\n",
    "print(networks)"
   ]
  },
  {
   "cell_type": "code",
   "execution_count": 113,
   "id": "d509c6a2-9dac-466d-b8fe-fc5bc42f9fc8",
   "metadata": {},
   "outputs": [
    {
     "data": {
      "text/plain": [
       "1376"
      ]
     },
     "execution_count": 113,
     "metadata": {},
     "output_type": "execute_result"
    }
   ],
   "source": [
    "pc.get_network_suid()"
   ]
  },
  {
   "cell_type": "code",
   "execution_count": 45,
   "id": "96405b24-e8bb-440b-99c4-26950dba7397",
   "metadata": {},
   "outputs": [
    {
     "data": {
      "text/plain": [
       "[]"
      ]
     },
     "execution_count": 45,
     "metadata": {},
     "output_type": "execute_result"
    }
   ],
   "source": [
    "pc.get_network_list()"
   ]
  },
  {
   "cell_type": "code",
   "execution_count": 79,
   "id": "7a6cf93b-11f8-423b-9920-b46403b24fca",
   "metadata": {},
   "outputs": [
    {
     "data": {
      "text/plain": [
       "[]"
      ]
     },
     "execution_count": 79,
     "metadata": {},
     "output_type": "execute_result"
    }
   ],
   "source": [
    "pc.get_network_list(get_suids=True)"
   ]
  },
  {
   "cell_type": "code",
   "execution_count": 49,
   "id": "97504bd6-c539-4724-bacc-b235fff69cff",
   "metadata": {},
   "outputs": [
    {
     "data": {
      "text/plain": [
       "{'file': 'C:\\\\Users\\\\HP\\\\Downloads\\\\gene_variants.cx'}"
      ]
     },
     "execution_count": 49,
     "metadata": {},
     "output_type": "execute_result"
    }
   ],
   "source": [
    "# Putting the position of desired network after checking it from the list\n",
    "network_suid = 398\n",
    "#Download the network\n",
    "pc.export_network(filename='C:/Users/HP/Downloads/gene_variants.cx', type='CX', network=network_suid)"
   ]
  },
  {
   "cell_type": "code",
   "execution_count": 51,
   "id": "4afe2f9b-576a-4dec-a939-e276df4c2e17",
   "metadata": {},
   "outputs": [
    {
     "data": {
      "text/plain": [
       "{'file': 'C:\\\\Users\\\\HP\\\\Downloads\\\\snp-gene.png'}"
      ]
     },
     "execution_count": 51,
     "metadata": {},
     "output_type": "execute_result"
    }
   ],
   "source": [
    "pc.export_image('C:/Users/HP/Downloads/snp-gene', type='png')"
   ]
  },
  {
   "cell_type": "code",
   "execution_count": 53,
   "id": "b3614f06-aebb-4afc-8b7c-2122675e5fc9",
   "metadata": {},
   "outputs": [
    {
     "data": {
      "text/plain": [
       "{}"
      ]
     },
     "execution_count": 53,
     "metadata": {},
     "output_type": "execute_result"
    }
   ],
   "source": [
    "pc.layout_network()"
   ]
  },
  {
   "cell_type": "code",
   "execution_count": 55,
   "id": "cff77b27-84a7-4fa8-944a-01be7ee687ed",
   "metadata": {},
   "outputs": [
    {
     "data": {
      "text/plain": [
       "['Extension step: 1',\n",
       " 'Linkset: WikiPathways-20240410_Homo sapiens_20240410',\n",
       " 'Added edges: 47',\n",
       " 'Added nodes: 36']"
      ]
     },
     "execution_count": 55,
     "metadata": {},
     "output_type": "execute_result"
    }
   ],
   "source": [
    "#Extending the snp-gene network to snp-gene-pathway network\n",
    "pc.import_network_from_file('C:/Users/HP/Downloads/gene_variants.cx')\n",
    "pc.commands_run('cytargetlinker extend network=\"current\" direction=SOURCES linkSetFiles=\"C:/Users/HP/Downloads/linksets/wikipathways_hsa_20240410.xgmml\"')"
   ]
  },
  {
   "cell_type": "code",
   "execution_count": 63,
   "id": "9f23f2f8-464a-4ef7-bc48-ea06c2e7e2e1",
   "metadata": {},
   "outputs": [
    {
     "name": "stdout",
     "output_type": "stream",
     "text": [
      "['Solid', 'snp-gene network_1-Style', 'Nested Network Style', 'BioPAX_SIF', 'default black', 'Minimal', 'default', 'Directed', 'Universe', 'size_rank', 'Big Labels', 'Ripple', 'Sample3', 'Sample1', 'Curved', 'Gradient1', 'Marquee', 'BioPAX', 'Sample2']\n"
     ]
    }
   ],
   "source": [
    "styles = pc.get_visual_style_names()\n",
    "print(styles)"
   ]
  },
  {
   "cell_type": "code",
   "execution_count": 85,
   "id": "02f22e40-c1a0-4263-9d77-3a5a303cf1dc",
   "metadata": {},
   "outputs": [
    {
     "data": {
      "text/plain": [
       "{'message': 'Visual Style applied.'}"
      ]
     },
     "execution_count": 85,
     "metadata": {},
     "output_type": "execute_result"
    }
   ],
   "source": [
    "#change the style of the network\n",
    "pc.set_visual_style('Sample2')"
   ]
  },
  {
   "cell_type": "code",
   "execution_count": 67,
   "id": "34076abf-b489-4dd8-a363-7044b96c66eb",
   "metadata": {},
   "outputs": [
    {
     "data": {
      "text/plain": [
       "['attribute-grid',\n",
       " 'degree-circle',\n",
       " 'attributes-layout',\n",
       " 'kamada-kawai',\n",
       " 'force-directed',\n",
       " 'cose',\n",
       " 'hierarchical',\n",
       " 'attribute-circle',\n",
       " 'stacked-node-layout',\n",
       " 'circular',\n",
       " 'grid',\n",
       " 'fruchterman-rheingold',\n",
       " 'isom',\n",
       " 'force-directed-cl']"
      ]
     },
     "execution_count": 67,
     "metadata": {},
     "output_type": "execute_result"
    }
   ],
   "source": [
    "pc.get_layout_names()"
   ]
  },
  {
   "cell_type": "code",
   "execution_count": 69,
   "id": "99c3294a-1691-4082-b785-1f364f892cf1",
   "metadata": {},
   "outputs": [
    {
     "data": {
      "text/plain": [
       "{'Attribute Grid Layout': 'attribute-grid',\n",
       " 'Degree Sorted Circle Layout': 'degree-circle',\n",
       " 'Group Attributes Layout': 'attributes-layout',\n",
       " 'Edge-weighted Spring Embedded Layout': 'kamada-kawai',\n",
       " 'Prefuse Force Directed Layout': 'force-directed',\n",
       " 'Compound Spring Embedder (CoSE)': 'cose',\n",
       " 'Hierarchical Layout': 'hierarchical',\n",
       " 'Attribute Circle Layout': 'attribute-circle',\n",
       " 'Stacked Node Layout': 'stacked-node-layout',\n",
       " 'Circular Layout': 'circular',\n",
       " 'Grid Layout': 'grid',\n",
       " 'Edge-weighted Force directed (BioLayout)': 'fruchterman-rheingold',\n",
       " 'Inverted Self-Organizing Map Layout': 'isom',\n",
       " 'Prefuse Force Directed OpenCL Layout': 'force-directed-cl'}"
      ]
     },
     "execution_count": 69,
     "metadata": {},
     "output_type": "execute_result"
    }
   ],
   "source": [
    "pc.get_layout_name_mapping()"
   ]
  },
  {
   "cell_type": "code",
   "execution_count": 73,
   "id": "44f0779a-e252-4148-9a92-93451886f0a7",
   "metadata": {},
   "outputs": [
    {
     "data": {
      "text/plain": [
       "{}"
      ]
     },
     "execution_count": 73,
     "metadata": {},
     "output_type": "execute_result"
    }
   ],
   "source": [
    "pc.layout_network('kamada-kawai')"
   ]
  },
  {
   "cell_type": "code",
   "execution_count": 101,
   "id": "64f556c5-f5d4-4405-a033-28f3c6c95ced",
   "metadata": {},
   "outputs": [
    {
     "data": {
      "text/plain": [
       "{'file': 'C:\\\\Users\\\\HP\\\\Downloads\\\\snp-gene-pathway.png'}"
      ]
     },
     "execution_count": 101,
     "metadata": {},
     "output_type": "execute_result"
    }
   ],
   "source": [
    "pc.export_image('C:/Users/HP/Downloads/snp-gene-pathway', type='png')"
   ]
  },
  {
   "cell_type": "code",
   "execution_count": 107,
   "id": "b6f8dd8d-b320-4d15-a89a-61f57bd61919",
   "metadata": {},
   "outputs": [
    {
     "data": {
      "text/plain": [
       "''"
      ]
     },
     "execution_count": 107,
     "metadata": {},
     "output_type": "execute_result"
    }
   ],
   "source": [
    "pc.set_node_font_size_default(35, style_name= 'default')"
   ]
  },
  {
   "cell_type": "code",
   "execution_count": 103,
   "id": "34529169-cda0-48fa-8c8e-af77ccbd9f72",
   "metadata": {},
   "outputs": [
    {
     "data": {
      "image/png": "[encoded data removed]",
      "text/plain": [
       "<IPython.core.display.Image object>"
      ]
     },
     "execution_count": 103,
     "metadata": {},
     "output_type": "execute_result"
    }
   ],
   "source": [
    "pc.notebook_export_show_image()"
   ]
  },
  {
   "cell_type": "code",
   "execution_count": null,
   "id": "cbc12eb0-4b1a-4b39-8ccb-4876e564c0b4",
   "metadata": {},
   "outputs": [],
   "source": []
  }
 ],
 "metadata": {
  "kernelspec": {
   "display_name": "Python 3 (ipykernel)",
   "language": "python",
   "name": "python3"
  },
  "language_info": {
   "codemirror_mode": {
    "name": "ipython",
    "version": 3
   },
   "file_extension": ".py",
   "mimetype": "text/x-python",
   "name": "python",
   "nbconvert_exporter": "python",
   "pygments_lexer": "ipython3",
   "version": "3.11.9"
  }
 },
 "nbformat": 4,
 "nbformat_minor": 5
}
